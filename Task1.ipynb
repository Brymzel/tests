{
  "cells": [
    {
      "cell_type": "markdown",
      "metadata": {
        "id": "zKd47k9wmLad"
      },
      "source": [
        "# Методы оптимизации"
      ]
    },
    {
      "cell_type": "markdown",
      "metadata": {
        "id": "36Z2YHjcmLah"
      },
      "source": [
        "## Основы оптимизации\n",
        "\n",
        "В этой работе мы рассмотрим основы оптимизации, для чего она используется, и рассмотрим базовые подходы,а так же познакомимся с возможностями Jupyter Notebook и Google Colab."
      ]
    },
    {
      "cell_type": "markdown",
      "metadata": {
        "id": "eO3h6AGXmLak"
      },
      "source": [
        "## Задача\n",
        "\n",
        "Рассмотрим простую задачу для оптимизации. Начем с примера, рассмотренного в [статье](https://habr.com/ru/post/517056/).\n",
        "\n",
        "Необходимо минимизировать функцию\n",
        "\n",
        "$$\n",
        "f(x) = 1.3 \\cdot (x - y)^2 + 0.7 \\cdot (x + y)^2\n",
        "$$\n",
        "\n",
        "используя [метод случайного поиска с вовзратом при неудачном шаге](https://studfile.net/preview/2152158/page:10/)"
      ]
    },
    {
      "cell_type": "raw",
      "metadata": {
        "id": "47QKrqgRmLam"
      },
      "source": [
        "Для оптимизации и представления результата воспользуемся средствами визуализации Jupyter Notebook, расмотренными в [статье](https://habr.com/ru/post/517056/).\n",
        "\n",
        "Добавим виджеты Jupyter Notebook и функции, необходимые для анимации процесса поиска оптимального решения:"
      ]
    },
    {
      "cell_type": "markdown",
      "metadata": {
        "id": "nHlc8h-jmLao"
      },
      "source": [
        "## Внимание!\n",
        "Как [выяснилось](https://colab.research.google.com/drive/14uWejf0v1DII-CfcY48bl06i2zlSx-hl), интерактивность не поддерживается в Google Colab"
      ]
    },
    {
      "cell_type": "code",
      "execution_count": null,
      "metadata": {
        "id": "okjtj0Z6mLap"
      },
      "outputs": [],
      "source": [
        "from IPython.display import HTML\n",
        "# подключаем модули Jupyter Notebook для взаимодействия с пользователем\n",
        "from ipywidgets import interact, interactive, fixed, interact_manual\n",
        "import ipywidgets as widgets\n",
        "from IPython.display import display\n",
        "\n",
        "# пдключаем модули для расчетов и рисования графиков\n",
        "import numpy as np\n",
        "import matplotlib.pyplot as plt\n",
        "\n",
        "\n",
        "# Служебная функция\n",
        "# Возврашает элемент массива, переданного ей в качестве первого параметра с указанным номером\n",
        "def step_slice(lst, step):\n",
        "    return lst[step]\n",
        "\n",
        "\n",
        "# Функция анимации. Именно она будет рисовать последовательность шагов\n",
        "def animate_list(lst, play=False, interval=200):\n",
        "    slider = widgets.IntSlider(min=0, max=len(lst) - 1, step=1, value=0)\n",
        "    if play:\n",
        "        play_widjet = widgets.Play(interval=interval)\n",
        "        widgets.jslink((play_widjet, 'value'), (slider, 'value'))\n",
        "        display(play_widjet)\n",
        "    return interact(step_slice, lst=fixed(lst), step=slider)\n",
        "\n",
        "\n",
        "# Отрисовка траектории и линий уровня функции\n",
        "def plot_trajectory(func, traj, limit_point=None):\n",
        "    # Добавим график, в ктором будем рисовать\n",
        "    fig = plt.figure(figsize=(7, 7))\n",
        "    ax = fig.add_axes([0, 0, 1, 1])\n",
        "\n",
        "    # Если задаа финальная точка, обозначим ее зеленым кружком\n",
        "    if limit_point:\n",
        "        ax.plot([limit_point[0]], [limit_point[1]], 'o', color='green')\n",
        "\n",
        "    delta = 0.025\n",
        "    x = np.arange(-2, 2, delta)  # диапазон значений по x\n",
        "    y = np.arange(-2, 2, delta)  # и по y соответственно\n",
        "    X, Y = np.meshgrid(x, y)  # пространственная сетка по указанным диапазонам значений\n",
        "\n",
        "    # вычисление значений функции во всех узлах сетки, необходимо для рисования изолиний на графике\n",
        "    Z = np.zeros_like(X)\n",
        "    for i in range(X.shape[0]):\n",
        "        for j in range(X.shape[1]):\n",
        "            Z[i][j] = func(X[i][j], Y[i][j])\n",
        "    # создание контуров изолиний по заданным значениям функции\n",
        "    CS = ax.contour(X, Y, Z, [0.5, 1.5, 3], colors=['blue', 'purple', 'red'])  # значения функции, для которых будут нарисованы изолинии, и соответствующие им цвета\n",
        "    ax.plot([u[0] for u in traj], [u[1] for u in traj], color='black')  # рисование всех линий траектории\n",
        "    ax.plot([u[0] for u in traj], [u[1] for u in traj], 'o', color='black')  # и соответствующих им точек\n",
        "\n",
        "    plt.close(fig)\n",
        "    return fig"
      ]
    },
    {
      "cell_type": "markdown",
      "metadata": {
        "id": "duv-2VjsmLau"
      },
      "source": [
        "Опишем функцию, которую хотим минимизировать, и собственно алгоритм минимизации"
      ]
    },
    {
      "cell_type": "code",
      "execution_count": null,
      "metadata": {
        "id": "qUwLxoO1mLaw",
        "outputId": "aa9b36da-fe69-43ec-e653-079ef9833e93",
        "colab": {
          "referenced_widgets": [
            "f4dd521c42694ed5aa246a24df402059",
            "6a6f45055b9243159948cad62a57a817"
          ]
        }
      },
      "outputs": [
        {
          "data": {
            "application/vnd.jupyter.widget-view+json": {
              "model_id": "f4dd521c42694ed5aa246a24df402059",
              "version_major": 2,
              "version_minor": 0
            },
            "text/plain": [
              "Play(value=0, interval=300)"
            ]
          },
          "metadata": {},
          "output_type": "display_data"
        },
        {
          "data": {
            "application/vnd.jupyter.widget-view+json": {
              "model_id": "6a6f45055b9243159948cad62a57a817",
              "version_major": 2,
              "version_minor": 0
            },
            "text/plain": [
              "interactive(children=(IntSlider(value=0, description='step', max=49), Output()), _dom_classes=('widget-interac…"
            ]
          },
          "metadata": {},
          "output_type": "display_data"
        }
      ],
      "source": [
        "display(HTML('<link rel=\"stylesheet\" href=\"//stackpath.bootstrapcdn.com/font-awesome/4.7.0/css/font-awesome.min.css\"/>'))\n",
        "# Функция, которую минимизируем, минимум в точке (0, 0)\n",
        "def f(x, y):\n",
        "    return 1.3 * (x - y) ** 2 + 0.7 * (x + y) ** 2\n",
        "\n",
        "x, y = (1.0, 1.0)  # начальная точка\n",
        "num_iters = 50  # число шагов алгоритма (не факт, что минимум будет достигнут)\n",
        "trajectory = [(x, y)]  # траектория пока состоит только из начальной точки\n",
        "plots = []  # шаги алгоритма, которые будут анимированы, пока их нет\n",
        "\n",
        "# Собственно алгоритм\n",
        "for i in range(num_iters):  # выполняем num_iters шагов\n",
        "    angle = 2 * np.pi * np.random.rand(1)  # случайным образом выбираем направленние движения\n",
        "    dx, dy = (np.cos(angle)[0] / 2 / (i + 1) ** 0.5, np.sin(angle)[0] / 2 / (i + 1) ** 0.5)  # находим смещение\n",
        "\n",
        "    trajectory.append((x + dx, y + dy))  # добавляем очередную найденую точку к таектории\n",
        "    plots.append(plot_trajectory(f, trajectory, limit_point=(0, 0)))  # добавляем шаг работы алгоритма, который надо нарисовать в анимации\n",
        "\n",
        "    if f(x, y) > f(x + dx, y + dy):  # если в выбранной точке значение целевой функции меньше, чем в предыдущей...\n",
        "        x = x + dx  # перемещаемся\n",
        "        y = y + dy  # в нее\n",
        "    else:\n",
        "        trajectory = trajectory[:-1]  # иначе вернемся на шаг назад\n",
        "\n",
        "animate_list(plots, play=True, interval=300);  # выводим все наши шаги в виде анимации"
      ]
    },
    {
      "cell_type": "code",
      "execution_count": null,
      "metadata": {
        "id": "spMzk9FrmLaz"
      },
      "outputs": [],
      "source": []
    },
    {
      "cell_type": "markdown",
      "metadata": {
        "id": "4iFYKzRMmLa0"
      },
      "source": [
        "Вам необходимо выполнить следующие задачи:\n",
        "\n",
        "1. Изменить алгоритм таким образом, чтобы останов алгоритма происходил:\n",
        "    * при достижении заданной точности, или\n",
        "    * по выполнению заданного числа шагов (в приведенной выше программе использовано только это условие)\n",
        "2. Реализовать [алгоритм покоординатного спуска](http://www.machinelearning.ru/wiki/index.php?title=Метод_покоординатного_спуска) и анимацию его работы для той же функции\n",
        "\n",
        "Для вашего удобства код алгоритма продублирован без изменений ниже для каждого из пунктов заданий. Вам необходимо модифицировать его в соответствии с указанным заданием."
      ]
    },
    {
      "cell_type": "markdown",
      "metadata": {
        "id": "HiHPA--vmLa1"
      },
      "source": [
        "1. Изменить алгоритм таким образом, чтобы останов алгоритма происходил при достижении заданной точности, или по выполнению заданного числа шагов"
      ]
    },
    {
      "cell_type": "code",
      "execution_count": 15,
      "metadata": {
        "id": "smBUq28CmLa2",
        "outputId": "4942cd3b-cc35-4655-a2fb-ec441bb279ac",
        "colab": {
          "base_uri": "https://localhost:8080/",
          "height": 910,
          "referenced_widgets": [
            "769c1b5c77a14bf881ba2ed9cb9a79ee",
            "5f3250a313a64d139ba3a33597e3120a",
            "97fc3458b1664974b5535547b93c448c",
            "11da8a51bb2442bebdc56ec1f71b0199",
            "dde5e158341b4efab353345d2f1ef49b",
            "1f6c36d27f504235a9288c26e2b02825",
            "1974a93d79834fa28b548fc1eec23920",
            "5907919041ad49d49ad6c32ad3ba51d4",
            "6b283b6e16924d98870992c7ee859867",
            "4242dca6c3fe450ca9a7226c18cff611"
          ]
        }
      },
      "outputs": [
        {
          "output_type": "display_data",
          "data": {
            "text/plain": [
              "Play(value=0, interval=300)"
            ],
            "application/vnd.jupyter.widget-view+json": {
              "version_major": 2,
              "version_minor": 0,
              "model_id": "769c1b5c77a14bf881ba2ed9cb9a79ee"
            }
          },
          "metadata": {}
        },
        {
          "output_type": "display_data",
          "data": {
            "text/plain": [
              "interactive(children=(IntSlider(value=0, description='step', max=49), Output()), _dom_classes=('widget-interac…"
            ],
            "application/vnd.jupyter.widget-view+json": {
              "version_major": 2,
              "version_minor": 0,
              "model_id": "1974a93d79834fa28b548fc1eec23920"
            }
          },
          "metadata": {}
        },
        {
          "output_type": "execute_result",
          "data": {
            "text/plain": [
              "<function __main__.step_slice(lst, step)>"
            ],
            "text/html": [
              "<div style=\"max-width:800px; border: 1px solid var(--colab-border-color);\"><style>\n",
              "      pre.function-repr-contents {\n",
              "        overflow-x: auto;\n",
              "        padding: 8px 12px;\n",
              "        max-height: 500px;\n",
              "      }\n",
              "\n",
              "      pre.function-repr-contents.function-repr-contents-collapsed {\n",
              "        cursor: pointer;\n",
              "        max-height: 100px;\n",
              "      }\n",
              "    </style>\n",
              "    <pre style=\"white-space: initial; background:\n",
              "         var(--colab-secondary-surface-color); padding: 8px 12px;\n",
              "         border-bottom: 1px solid var(--colab-border-color);\"><b>step_slice</b><br/>def step_slice(lst, step)</pre><pre class=\"function-repr-contents function-repr-contents-collapsed\" style=\"\"><a class=\"filepath\" style=\"display:none\" href=\"#\">/content/&lt;ipython-input-11-71408a64a699&gt;</a>&lt;no docstring&gt;</pre></div>"
            ]
          },
          "metadata": {},
          "execution_count": 15
        }
      ],
      "source": [
        "# 1. Алгоритм случайного поиска с остановкой по достижению точности\n",
        "x, y = (1.0, 1.0)  # начальная точка\n",
        "num_iters = 50  # максимальное число шагов\n",
        "tolerance = 1e-5  # точность, при которой алгоритм остановится\n",
        "trajectory = [(x, y)]  # траектория\n",
        "plots = []  # шаги алгоритма\n",
        "\n",
        "for i in range(num_iters):  # выполняем num_iters шагов\n",
        "    angle = 2 * np.pi * np.random.rand(1)  # случайным образом выбираем направление\n",
        "    dx, dy = (np.cos(angle)[0] / 2 / (i + 1) ** 0.5, np.sin(angle)[0] / 2 / (i + 1) ** 0.5)\n",
        "\n",
        "    trajectory.append((x + dx, y + dy))  # добавляем точку к траектории\n",
        "    plots.append(plot_trajectory(f, trajectory, limit_point=(0, 0)))  # сохраняем шаг для анимации\n",
        "\n",
        "    if f(x, y) > f(x + dx, y + dy):\n",
        "        x = x + dx\n",
        "        y = y + dy\n",
        "    else:\n",
        "        trajectory = trajectory[:-1]  # возвращаемся на предыдущий шаг\n",
        "\n",
        "    # Остановка при достижении точности\n",
        "    if np.abs(f(x, y) - f(x + dx, y + dy)) < tolerance:\n",
        "        print(f\"Алгоритм остановлен на шаге {i + 1} из-за достижения точности.\")\n",
        "        break\n",
        "\n",
        "animate_list(plots, play=True, interval=300)"
      ]
    },
    {
      "cell_type": "markdown",
      "metadata": {
        "id": "P95XnU2amLa3"
      },
      "source": [
        "2. Реализовать [алгоритм покоординатного спуска](http://www.machinelearning.ru/wiki/index.php?title=Метод_покоординатного_спуска) и анимацию его работы"
      ]
    },
    {
      "cell_type": "code",
      "source": [],
      "metadata": {
        "id": "olSgl_owmre6"
      },
      "execution_count": null,
      "outputs": []
    },
    {
      "cell_type": "code",
      "execution_count": 16,
      "metadata": {
        "id": "hlE3FCAGmLa4",
        "outputId": "5a0dc650-6611-4092-d9ac-b1b9ee6ac3fc",
        "colab": {
          "base_uri": "https://localhost:8080/",
          "height": 910,
          "referenced_widgets": [
            "8e20c12b4c21497fa7ddf2dfc6043369",
            "0957711f9d1c4dd1ac733384b0d5888c",
            "8797ca6b23704391ad2dd56fb06585aa",
            "ac985caffa8d4ad3865819b3b089e980",
            "eaf805637c6341afb0daf999f3e36485",
            "492a150b877441dca276d293e6f1a490",
            "0c7c11cf63c74fa8bf416d22355e69fc",
            "9686bba8d7194055a54382cb22bf729c",
            "5b1f4f36a9fe4de6a874db95dc17833b",
            "c12837de17354dee92a8874f39e5ea29"
          ]
        }
      },
      "outputs": [
        {
          "output_type": "display_data",
          "data": {
            "text/plain": [
              "Play(value=0, interval=300)"
            ],
            "application/vnd.jupyter.widget-view+json": {
              "version_major": 2,
              "version_minor": 0,
              "model_id": "8e20c12b4c21497fa7ddf2dfc6043369"
            }
          },
          "metadata": {}
        },
        {
          "output_type": "display_data",
          "data": {
            "text/plain": [
              "interactive(children=(IntSlider(value=0, description='step', max=49), Output()), _dom_classes=('widget-interac…"
            ],
            "application/vnd.jupyter.widget-view+json": {
              "version_major": 2,
              "version_minor": 0,
              "model_id": "0c7c11cf63c74fa8bf416d22355e69fc"
            }
          },
          "metadata": {}
        },
        {
          "output_type": "execute_result",
          "data": {
            "text/plain": [
              "<function __main__.step_slice(lst, step)>"
            ],
            "text/html": [
              "<div style=\"max-width:800px; border: 1px solid var(--colab-border-color);\"><style>\n",
              "      pre.function-repr-contents {\n",
              "        overflow-x: auto;\n",
              "        padding: 8px 12px;\n",
              "        max-height: 500px;\n",
              "      }\n",
              "\n",
              "      pre.function-repr-contents.function-repr-contents-collapsed {\n",
              "        cursor: pointer;\n",
              "        max-height: 100px;\n",
              "      }\n",
              "    </style>\n",
              "    <pre style=\"white-space: initial; background:\n",
              "         var(--colab-secondary-surface-color); padding: 8px 12px;\n",
              "         border-bottom: 1px solid var(--colab-border-color);\"><b>step_slice</b><br/>def step_slice(lst, step)</pre><pre class=\"function-repr-contents function-repr-contents-collapsed\" style=\"\"><a class=\"filepath\" style=\"display:none\" href=\"#\">/content/&lt;ipython-input-16-49ce34ce4035&gt;</a>&lt;no docstring&gt;</pre></div>"
            ]
          },
          "metadata": {},
          "execution_count": 16
        }
      ],
      "source": [
        "from IPython.display import HTML\n",
        "# подключаем модули Jupyter Notebook для взаимодействия с пользователем\n",
        "from ipywidgets import interact, interactive, fixed, interact_manual\n",
        "import ipywidgets as widgets\n",
        "from IPython.display import display\n",
        "\n",
        "# пдключаем модули для расчетов и рисования графиков\n",
        "import numpy as np\n",
        "import matplotlib.pyplot as plt\n",
        "\n",
        "\n",
        "# Служебная функция\n",
        "# Возврашает элемент массива, переданного ей в качестве первого параметра с указанным номером\n",
        "def step_slice(lst, step):\n",
        "    return lst[step]\n",
        "\n",
        "\n",
        "# Функция анимации. Именно она будет рисовать последовательность шагов\n",
        "def animate_list(lst, play=False, interval=200):\n",
        "    slider = widgets.IntSlider(min=0, max=len(lst) - 1, step=1, value=0)\n",
        "    if play:\n",
        "        play_widjet = widgets.Play(interval=interval)\n",
        "        widgets.jslink((play_widjet, 'value'), (slider, 'value'))\n",
        "        display(play_widjet)\n",
        "    return interact(step_slice, lst=fixed(lst), step=slider)\n",
        "\n",
        "\n",
        "# Отрисовка траектории и линий уровня функции\n",
        "def plot_trajectory(func, traj, limit_point=None):\n",
        "    # Добавим график, в ктором будем рисовать\n",
        "    fig = plt.figure(figsize=(7, 7))\n",
        "    ax = fig.add_axes([0, 0, 1, 1])\n",
        "\n",
        "    # Если задаа финальная точка, обозначим ее зеленым кружком\n",
        "    if limit_point:\n",
        "        ax.plot([limit_point[0]], [limit_point[1]], 'o', color='green')\n",
        "\n",
        "    delta = 0.025\n",
        "    x = np.arange(-2, 2, delta)  # диапазон значений по x\n",
        "    y = np.arange(-2, 2, delta)  # и по y соответственно\n",
        "    X, Y = np.meshgrid(x, y)  # пространственная сетка по указанным диапазонам значений\n",
        "\n",
        "    # вычисление значений функции во всех узлах сетки, необходимо для рисования изолиний на графике\n",
        "    Z = np.zeros_like(X)\n",
        "    for i in range(X.shape[0]):\n",
        "        for j in range(X.shape[1]):\n",
        "            Z[i][j] = func(X[i][j], Y[i][j])\n",
        "    # создание контуров изолиний по заданным значениям функции\n",
        "    CS = ax.contour(X, Y, Z, [0.5, 1.5, 3], colors=['blue', 'purple', 'red'])  # значения функции, для которых будут нарисованы изолинии, и соответствующие им цвета\n",
        "    ax.plot([u[0] for u in traj], [u[1] for u in traj], color='black')  # рисование всех линий траектории\n",
        "    ax.plot([u[0] for u in traj], [u[1] for u in traj], 'o', color='black')  # и соответствующих им точек\n",
        "\n",
        "    plt.close(fig)\n",
        "    return fig\n",
        "\n",
        "def f(x, y):\n",
        "    return 1.3 * (x - y) ** 2 + 0.7 * (x + y) ** 2\n",
        "\n",
        "# 2. Алгоритм покоординатного спуска\n",
        "x, y = (1.0, 1.0)  # начальная точка\n",
        "num_iters = 50  # число шагов\n",
        "trajectory = [(x, y)]  # траектория\n",
        "plots = []  # шаги алгоритма\n",
        "\n",
        "for i in range(num_iters):  # выполняем num_iters шагов\n",
        "    if i % 2 == 0:\n",
        "        dx = -0.1 * np.sign(f(x + 0.1, y) - f(x, y))  # шаг по x\n",
        "        dy = 0\n",
        "    else:\n",
        "        dx = 0\n",
        "        dy = -0.1 * np.sign(f(x, y + 0.1) - f(x, y))  # шаг по y\n",
        "\n",
        "    trajectory.append((x + dx, y + dy))  # добавляем точку к траектории\n",
        "    plots.append(plot_trajectory(f, trajectory, limit_point=(0, 0)))  # сохраняем шаг для анимации\n",
        "\n",
        "    x = x + dx\n",
        "    y = y + dy\n",
        "\n",
        "animate_list(plots, play=True, interval=300)\n"
      ]
    }
  ],
  "metadata": {
    "kernelspec": {
      "display_name": "Python 3",
      "language": "python",
      "name": "python3"
    },
    "language_info": {
      "codemirror_mode": {
        "name": "ipython",
        "version": 3
      },
      "file_extension": ".py",
      "mimetype": "text/x-python",
      "name": "python",
      "nbconvert_exporter": "python",
      "pygments_lexer": "ipython3",
      "version": "3.8.5"
    },
    "colab": {
      "provenance": []
    },
    "widgets": {
      "application/vnd.jupyter.widget-state+json": {
        "769c1b5c77a14bf881ba2ed9cb9a79ee": {
          "model_module": "@jupyter-widgets/controls",
          "model_name": "PlayModel",
          "model_module_version": "1.5.0",
          "state": {
            "_dom_classes": [],
            "_model_module": "@jupyter-widgets/controls",
            "_model_module_version": "1.5.0",
            "_model_name": "PlayModel",
            "_playing": false,
            "_repeat": false,
            "_view_count": null,
            "_view_module": "@jupyter-widgets/controls",
            "_view_module_version": "1.5.0",
            "_view_name": "PlayView",
            "description": "",
            "description_tooltip": null,
            "disabled": false,
            "interval": 300,
            "layout": "IPY_MODEL_97fc3458b1664974b5535547b93c448c",
            "max": 100,
            "min": 0,
            "show_repeat": true,
            "step": 1,
            "style": "IPY_MODEL_11da8a51bb2442bebdc56ec1f71b0199",
            "value": 49
          }
        },
        "5f3250a313a64d139ba3a33597e3120a": {
          "model_module": "@jupyter-widgets/controls",
          "model_name": "IntSliderModel",
          "model_module_version": "1.5.0",
          "state": {
            "_dom_classes": [],
            "_model_module": "@jupyter-widgets/controls",
            "_model_module_version": "1.5.0",
            "_model_name": "IntSliderModel",
            "_view_count": null,
            "_view_module": "@jupyter-widgets/controls",
            "_view_module_version": "1.5.0",
            "_view_name": "IntSliderView",
            "continuous_update": true,
            "description": "step",
            "description_tooltip": null,
            "disabled": false,
            "layout": "IPY_MODEL_dde5e158341b4efab353345d2f1ef49b",
            "max": 49,
            "min": 0,
            "orientation": "horizontal",
            "readout": true,
            "readout_format": "d",
            "step": 1,
            "style": "IPY_MODEL_1f6c36d27f504235a9288c26e2b02825",
            "value": 49
          }
        },
        "97fc3458b1664974b5535547b93c448c": {
          "model_module": "@jupyter-widgets/base",
          "model_name": "LayoutModel",
          "model_module_version": "1.2.0",
          "state": {
            "_model_module": "@jupyter-widgets/base",
            "_model_module_version": "1.2.0",
            "_model_name": "LayoutModel",
            "_view_count": null,
            "_view_module": "@jupyter-widgets/base",
            "_view_module_version": "1.2.0",
            "_view_name": "LayoutView",
            "align_content": null,
            "align_items": null,
            "align_self": null,
            "border": null,
            "bottom": null,
            "display": null,
            "flex": null,
            "flex_flow": null,
            "grid_area": null,
            "grid_auto_columns": null,
            "grid_auto_flow": null,
            "grid_auto_rows": null,
            "grid_column": null,
            "grid_gap": null,
            "grid_row": null,
            "grid_template_areas": null,
            "grid_template_columns": null,
            "grid_template_rows": null,
            "height": null,
            "justify_content": null,
            "justify_items": null,
            "left": null,
            "margin": null,
            "max_height": null,
            "max_width": null,
            "min_height": null,
            "min_width": null,
            "object_fit": null,
            "object_position": null,
            "order": null,
            "overflow": null,
            "overflow_x": null,
            "overflow_y": null,
            "padding": null,
            "right": null,
            "top": null,
            "visibility": null,
            "width": null
          }
        },
        "11da8a51bb2442bebdc56ec1f71b0199": {
          "model_module": "@jupyter-widgets/controls",
          "model_name": "DescriptionStyleModel",
          "model_module_version": "1.5.0",
          "state": {
            "_model_module": "@jupyter-widgets/controls",
            "_model_module_version": "1.5.0",
            "_model_name": "DescriptionStyleModel",
            "_view_count": null,
            "_view_module": "@jupyter-widgets/base",
            "_view_module_version": "1.2.0",
            "_view_name": "StyleView",
            "description_width": ""
          }
        },
        "dde5e158341b4efab353345d2f1ef49b": {
          "model_module": "@jupyter-widgets/base",
          "model_name": "LayoutModel",
          "model_module_version": "1.2.0",
          "state": {
            "_model_module": "@jupyter-widgets/base",
            "_model_module_version": "1.2.0",
            "_model_name": "LayoutModel",
            "_view_count": null,
            "_view_module": "@jupyter-widgets/base",
            "_view_module_version": "1.2.0",
            "_view_name": "LayoutView",
            "align_content": null,
            "align_items": null,
            "align_self": null,
            "border": null,
            "bottom": null,
            "display": null,
            "flex": null,
            "flex_flow": null,
            "grid_area": null,
            "grid_auto_columns": null,
            "grid_auto_flow": null,
            "grid_auto_rows": null,
            "grid_column": null,
            "grid_gap": null,
            "grid_row": null,
            "grid_template_areas": null,
            "grid_template_columns": null,
            "grid_template_rows": null,
            "height": null,
            "justify_content": null,
            "justify_items": null,
            "left": null,
            "margin": null,
            "max_height": null,
            "max_width": null,
            "min_height": null,
            "min_width": null,
            "object_fit": null,
            "object_position": null,
            "order": null,
            "overflow": null,
            "overflow_x": null,
            "overflow_y": null,
            "padding": null,
            "right": null,
            "top": null,
            "visibility": null,
            "width": null
          }
        },
        "1f6c36d27f504235a9288c26e2b02825": {
          "model_module": "@jupyter-widgets/controls",
          "model_name": "SliderStyleModel",
          "model_module_version": "1.5.0",
          "state": {
            "_model_module": "@jupyter-widgets/controls",
            "_model_module_version": "1.5.0",
            "_model_name": "SliderStyleModel",
            "_view_count": null,
            "_view_module": "@jupyter-widgets/base",
            "_view_module_version": "1.2.0",
            "_view_name": "StyleView",
            "description_width": "",
            "handle_color": null
          }
        },
        "1974a93d79834fa28b548fc1eec23920": {
          "model_module": "@jupyter-widgets/controls",
          "model_name": "VBoxModel",
          "model_module_version": "1.5.0",
          "state": {
            "_dom_classes": [
              "widget-interact"
            ],
            "_model_module": "@jupyter-widgets/controls",
            "_model_module_version": "1.5.0",
            "_model_name": "VBoxModel",
            "_view_count": null,
            "_view_module": "@jupyter-widgets/controls",
            "_view_module_version": "1.5.0",
            "_view_name": "VBoxView",
            "box_style": "",
            "children": [
              "IPY_MODEL_5f3250a313a64d139ba3a33597e3120a",
              "IPY_MODEL_5907919041ad49d49ad6c32ad3ba51d4"
            ],
            "layout": "IPY_MODEL_6b283b6e16924d98870992c7ee859867"
          }
        },
        "5907919041ad49d49ad6c32ad3ba51d4": {
          "model_module": "@jupyter-widgets/output",
          "model_name": "OutputModel",
          "model_module_version": "1.0.0",
          "state": {
            "_dom_classes": [],
            "_model_module": "@jupyter-widgets/output",
            "_model_module_version": "1.0.0",
            "_model_name": "OutputModel",
            "_view_count": null,
            "_view_module": "@jupyter-widgets/output",
            "_view_module_version": "1.0.0",
            "_view_name": "OutputView",
            "layout": "IPY_MODEL_4242dca6c3fe450ca9a7226c18cff611",
            "msg_id": "",
            "outputs": [
              {
                "output_type": "display_data",
                "data": {
                  "text/plain": "<Figure size 700x700 with 1 Axes>",
                  "image/png": "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\n"
                },
                "metadata": {}
              }
            ]
          }
        },
        "6b283b6e16924d98870992c7ee859867": {
          "model_module": "@jupyter-widgets/base",
          "model_name": "LayoutModel",
          "model_module_version": "1.2.0",
          "state": {
            "_model_module": "@jupyter-widgets/base",
            "_model_module_version": "1.2.0",
            "_model_name": "LayoutModel",
            "_view_count": null,
            "_view_module": "@jupyter-widgets/base",
            "_view_module_version": "1.2.0",
            "_view_name": "LayoutView",
            "align_content": null,
            "align_items": null,
            "align_self": null,
            "border": null,
            "bottom": null,
            "display": null,
            "flex": null,
            "flex_flow": null,
            "grid_area": null,
            "grid_auto_columns": null,
            "grid_auto_flow": null,
            "grid_auto_rows": null,
            "grid_column": null,
            "grid_gap": null,
            "grid_row": null,
            "grid_template_areas": null,
            "grid_template_columns": null,
            "grid_template_rows": null,
            "height": null,
            "justify_content": null,
            "justify_items": null,
            "left": null,
            "margin": null,
            "max_height": null,
            "max_width": null,
            "min_height": null,
            "min_width": null,
            "object_fit": null,
            "object_position": null,
            "order": null,
            "overflow": null,
            "overflow_x": null,
            "overflow_y": null,
            "padding": null,
            "right": null,
            "top": null,
            "visibility": null,
            "width": null
          }
        },
        "4242dca6c3fe450ca9a7226c18cff611": {
          "model_module": "@jupyter-widgets/base",
          "model_name": "LayoutModel",
          "model_module_version": "1.2.0",
          "state": {
            "_model_module": "@jupyter-widgets/base",
            "_model_module_version": "1.2.0",
            "_model_name": "LayoutModel",
            "_view_count": null,
            "_view_module": "@jupyter-widgets/base",
            "_view_module_version": "1.2.0",
            "_view_name": "LayoutView",
            "align_content": null,
            "align_items": null,
            "align_self": null,
            "border": null,
            "bottom": null,
            "display": null,
            "flex": null,
            "flex_flow": null,
            "grid_area": null,
            "grid_auto_columns": null,
            "grid_auto_flow": null,
            "grid_auto_rows": null,
            "grid_column": null,
            "grid_gap": null,
            "grid_row": null,
            "grid_template_areas": null,
            "grid_template_columns": null,
            "grid_template_rows": null,
            "height": null,
            "justify_content": null,
            "justify_items": null,
            "left": null,
            "margin": null,
            "max_height": null,
            "max_width": null,
            "min_height": null,
            "min_width": null,
            "object_fit": null,
            "object_position": null,
            "order": null,
            "overflow": null,
            "overflow_x": null,
            "overflow_y": null,
            "padding": null,
            "right": null,
            "top": null,
            "visibility": null,
            "width": null
          }
        },
        "8e20c12b4c21497fa7ddf2dfc6043369": {
          "model_module": "@jupyter-widgets/controls",
          "model_name": "PlayModel",
          "model_module_version": "1.5.0",
          "state": {
            "_dom_classes": [],
            "_model_module": "@jupyter-widgets/controls",
            "_model_module_version": "1.5.0",
            "_model_name": "PlayModel",
            "_playing": false,
            "_repeat": false,
            "_view_count": null,
            "_view_module": "@jupyter-widgets/controls",
            "_view_module_version": "1.5.0",
            "_view_name": "PlayView",
            "description": "",
            "description_tooltip": null,
            "disabled": false,
            "interval": 300,
            "layout": "IPY_MODEL_8797ca6b23704391ad2dd56fb06585aa",
            "max": 100,
            "min": 0,
            "show_repeat": true,
            "step": 1,
            "style": "IPY_MODEL_ac985caffa8d4ad3865819b3b089e980",
            "value": 49
          }
        },
        "0957711f9d1c4dd1ac733384b0d5888c": {
          "model_module": "@jupyter-widgets/controls",
          "model_name": "IntSliderModel",
          "model_module_version": "1.5.0",
          "state": {
            "_dom_classes": [],
            "_model_module": "@jupyter-widgets/controls",
            "_model_module_version": "1.5.0",
            "_model_name": "IntSliderModel",
            "_view_count": null,
            "_view_module": "@jupyter-widgets/controls",
            "_view_module_version": "1.5.0",
            "_view_name": "IntSliderView",
            "continuous_update": true,
            "description": "step",
            "description_tooltip": null,
            "disabled": false,
            "layout": "IPY_MODEL_eaf805637c6341afb0daf999f3e36485",
            "max": 49,
            "min": 0,
            "orientation": "horizontal",
            "readout": true,
            "readout_format": "d",
            "step": 1,
            "style": "IPY_MODEL_492a150b877441dca276d293e6f1a490",
            "value": 49
          }
        },
        "8797ca6b23704391ad2dd56fb06585aa": {
          "model_module": "@jupyter-widgets/base",
          "model_name": "LayoutModel",
          "model_module_version": "1.2.0",
          "state": {
            "_model_module": "@jupyter-widgets/base",
            "_model_module_version": "1.2.0",
            "_model_name": "LayoutModel",
            "_view_count": null,
            "_view_module": "@jupyter-widgets/base",
            "_view_module_version": "1.2.0",
            "_view_name": "LayoutView",
            "align_content": null,
            "align_items": null,
            "align_self": null,
            "border": null,
            "bottom": null,
            "display": null,
            "flex": null,
            "flex_flow": null,
            "grid_area": null,
            "grid_auto_columns": null,
            "grid_auto_flow": null,
            "grid_auto_rows": null,
            "grid_column": null,
            "grid_gap": null,
            "grid_row": null,
            "grid_template_areas": null,
            "grid_template_columns": null,
            "grid_template_rows": null,
            "height": null,
            "justify_content": null,
            "justify_items": null,
            "left": null,
            "margin": null,
            "max_height": null,
            "max_width": null,
            "min_height": null,
            "min_width": null,
            "object_fit": null,
            "object_position": null,
            "order": null,
            "overflow": null,
            "overflow_x": null,
            "overflow_y": null,
            "padding": null,
            "right": null,
            "top": null,
            "visibility": null,
            "width": null
          }
        },
        "ac985caffa8d4ad3865819b3b089e980": {
          "model_module": "@jupyter-widgets/controls",
          "model_name": "DescriptionStyleModel",
          "model_module_version": "1.5.0",
          "state": {
            "_model_module": "@jupyter-widgets/controls",
            "_model_module_version": "1.5.0",
            "_model_name": "DescriptionStyleModel",
            "_view_count": null,
            "_view_module": "@jupyter-widgets/base",
            "_view_module_version": "1.2.0",
            "_view_name": "StyleView",
            "description_width": ""
          }
        },
        "eaf805637c6341afb0daf999f3e36485": {
          "model_module": "@jupyter-widgets/base",
          "model_name": "LayoutModel",
          "model_module_version": "1.2.0",
          "state": {
            "_model_module": "@jupyter-widgets/base",
            "_model_module_version": "1.2.0",
            "_model_name": "LayoutModel",
            "_view_count": null,
            "_view_module": "@jupyter-widgets/base",
            "_view_module_version": "1.2.0",
            "_view_name": "LayoutView",
            "align_content": null,
            "align_items": null,
            "align_self": null,
            "border": null,
            "bottom": null,
            "display": null,
            "flex": null,
            "flex_flow": null,
            "grid_area": null,
            "grid_auto_columns": null,
            "grid_auto_flow": null,
            "grid_auto_rows": null,
            "grid_column": null,
            "grid_gap": null,
            "grid_row": null,
            "grid_template_areas": null,
            "grid_template_columns": null,
            "grid_template_rows": null,
            "height": null,
            "justify_content": null,
            "justify_items": null,
            "left": null,
            "margin": null,
            "max_height": null,
            "max_width": null,
            "min_height": null,
            "min_width": null,
            "object_fit": null,
            "object_position": null,
            "order": null,
            "overflow": null,
            "overflow_x": null,
            "overflow_y": null,
            "padding": null,
            "right": null,
            "top": null,
            "visibility": null,
            "width": null
          }
        },
        "492a150b877441dca276d293e6f1a490": {
          "model_module": "@jupyter-widgets/controls",
          "model_name": "SliderStyleModel",
          "model_module_version": "1.5.0",
          "state": {
            "_model_module": "@jupyter-widgets/controls",
            "_model_module_version": "1.5.0",
            "_model_name": "SliderStyleModel",
            "_view_count": null,
            "_view_module": "@jupyter-widgets/base",
            "_view_module_version": "1.2.0",
            "_view_name": "StyleView",
            "description_width": "",
            "handle_color": null
          }
        },
        "0c7c11cf63c74fa8bf416d22355e69fc": {
          "model_module": "@jupyter-widgets/controls",
          "model_name": "VBoxModel",
          "model_module_version": "1.5.0",
          "state": {
            "_dom_classes": [
              "widget-interact"
            ],
            "_model_module": "@jupyter-widgets/controls",
            "_model_module_version": "1.5.0",
            "_model_name": "VBoxModel",
            "_view_count": null,
            "_view_module": "@jupyter-widgets/controls",
            "_view_module_version": "1.5.0",
            "_view_name": "VBoxView",
            "box_style": "",
            "children": [
              "IPY_MODEL_0957711f9d1c4dd1ac733384b0d5888c",
              "IPY_MODEL_9686bba8d7194055a54382cb22bf729c"
            ],
            "layout": "IPY_MODEL_5b1f4f36a9fe4de6a874db95dc17833b"
          }
        },
        "9686bba8d7194055a54382cb22bf729c": {
          "model_module": "@jupyter-widgets/output",
          "model_name": "OutputModel",
          "model_module_version": "1.0.0",
          "state": {
            "_dom_classes": [],
            "_model_module": "@jupyter-widgets/output",
            "_model_module_version": "1.0.0",
            "_model_name": "OutputModel",
            "_view_count": null,
            "_view_module": "@jupyter-widgets/output",
            "_view_module_version": "1.0.0",
            "_view_name": "OutputView",
            "layout": "IPY_MODEL_c12837de17354dee92a8874f39e5ea29",
            "msg_id": "",
            "outputs": [
              {
                "output_type": "display_data",
                "data": {
                  "text/plain": "<Figure size 700x700 with 1 Axes>",
                  "image/png": "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\n"
                },
                "metadata": {}
              }
            ]
          }
        },
        "5b1f4f36a9fe4de6a874db95dc17833b": {
          "model_module": "@jupyter-widgets/base",
          "model_name": "LayoutModel",
          "model_module_version": "1.2.0",
          "state": {
            "_model_module": "@jupyter-widgets/base",
            "_model_module_version": "1.2.0",
            "_model_name": "LayoutModel",
            "_view_count": null,
            "_view_module": "@jupyter-widgets/base",
            "_view_module_version": "1.2.0",
            "_view_name": "LayoutView",
            "align_content": null,
            "align_items": null,
            "align_self": null,
            "border": null,
            "bottom": null,
            "display": null,
            "flex": null,
            "flex_flow": null,
            "grid_area": null,
            "grid_auto_columns": null,
            "grid_auto_flow": null,
            "grid_auto_rows": null,
            "grid_column": null,
            "grid_gap": null,
            "grid_row": null,
            "grid_template_areas": null,
            "grid_template_columns": null,
            "grid_template_rows": null,
            "height": null,
            "justify_content": null,
            "justify_items": null,
            "left": null,
            "margin": null,
            "max_height": null,
            "max_width": null,
            "min_height": null,
            "min_width": null,
            "object_fit": null,
            "object_position": null,
            "order": null,
            "overflow": null,
            "overflow_x": null,
            "overflow_y": null,
            "padding": null,
            "right": null,
            "top": null,
            "visibility": null,
            "width": null
          }
        },
        "c12837de17354dee92a8874f39e5ea29": {
          "model_module": "@jupyter-widgets/base",
          "model_name": "LayoutModel",
          "model_module_version": "1.2.0",
          "state": {
            "_model_module": "@jupyter-widgets/base",
            "_model_module_version": "1.2.0",
            "_model_name": "LayoutModel",
            "_view_count": null,
            "_view_module": "@jupyter-widgets/base",
            "_view_module_version": "1.2.0",
            "_view_name": "LayoutView",
            "align_content": null,
            "align_items": null,
            "align_self": null,
            "border": null,
            "bottom": null,
            "display": null,
            "flex": null,
            "flex_flow": null,
            "grid_area": null,
            "grid_auto_columns": null,
            "grid_auto_flow": null,
            "grid_auto_rows": null,
            "grid_column": null,
            "grid_gap": null,
            "grid_row": null,
            "grid_template_areas": null,
            "grid_template_columns": null,
            "grid_template_rows": null,
            "height": null,
            "justify_content": null,
            "justify_items": null,
            "left": null,
            "margin": null,
            "max_height": null,
            "max_width": null,
            "min_height": null,
            "min_width": null,
            "object_fit": null,
            "object_position": null,
            "order": null,
            "overflow": null,
            "overflow_x": null,
            "overflow_y": null,
            "padding": null,
            "right": null,
            "top": null,
            "visibility": null,
            "width": null
          }
        }
      }
    }
  },
  "nbformat": 4,
  "nbformat_minor": 0
}